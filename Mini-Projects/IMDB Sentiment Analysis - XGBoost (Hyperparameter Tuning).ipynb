{
 "cells": [
  {
   "cell_type": "markdown",
   "metadata": {},
   "source": [
    "# Sentiment Analysis\n",
    "\n",
    "## Using XGBoost in SageMaker\n",
    "\n",
    "_Deep Learning Nanodegree Program | Deployment_\n",
    "\n",
    "---\n",
    "\n",
    "In this example of using Amazon's SageMaker service we will construct a random tree model to predict the sentiment of a movie review. You may have seen a version of this example in a pervious lesson although it would have been done using the sklearn package. Instead, we will be using the XGBoost package as it is provided to us by Amazon.\n",
    "\n",
    "## Instructions\n",
    "\n",
    "Some template code has already been provided for you, and you will need to implement additional functionality to successfully complete this notebook. You will not need to modify the included code beyond what is requested. Sections that begin with '**TODO**' in the header indicate that you need to complete or implement some portion within them. Instructions will be provided for each section and the specifics of the implementation are marked in the code block with a `# TODO: ...` comment. Please be sure to read the instructions carefully!\n",
    "\n",
    "In addition to implementing code, there will be questions for you to answer which relate to the task and your implementation. Each section where you will answer a question is preceded by a '**Question:**' header. Carefully read each question and provide your answer below the '**Answer:**' header by editing the Markdown cell.\n",
    "\n",
    "> **Note**: Code and Markdown cells can be executed using the **Shift+Enter** keyboard shortcut. In addition, a cell can be edited by typically clicking it (double-click for Markdown cells) or by pressing **Enter** while it is highlighted."
   ]
  },
  {
   "cell_type": "markdown",
   "metadata": {},
   "source": [
    "## Step 1: Downloading the data\n",
    "\n",
    "The dataset we are going to use is very popular among researchers in Natural Language Processing, usually referred to as the [IMDb dataset](http://ai.stanford.edu/~amaas/data/sentiment/). It consists of movie reviews from the website [imdb.com](http://www.imdb.com/), each labeled as either '**pos**itive', if the reviewer enjoyed the film, or '**neg**ative' otherwise.\n",
    "\n",
    "> Maas, Andrew L., et al. [Learning Word Vectors for Sentiment Analysis](http://ai.stanford.edu/~amaas/data/sentiment/). In _Proceedings of the 49th Annual Meeting of the Association for Computational Linguistics: Human Language Technologies_. Association for Computational Linguistics, 2011.\n",
    "\n",
    "We begin by using some Jupyter Notebook magic to download and extract the dataset."
   ]
  },
  {
   "cell_type": "code",
   "execution_count": 1,
   "metadata": {},
   "outputs": [
    {
     "name": "stdout",
     "output_type": "stream",
     "text": [
      "mkdir: cannot create directory ‘../data’: File exists\n",
      "--2019-05-22 04:21:07--  http://ai.stanford.edu/~amaas/data/sentiment/aclImdb_v1.tar.gz\n",
      "Resolving ai.stanford.edu (ai.stanford.edu)... 171.64.68.10\n",
      "Connecting to ai.stanford.edu (ai.stanford.edu)|171.64.68.10|:80... connected.\n",
      "HTTP request sent, awaiting response... 200 OK\n",
      "Length: 84125825 (80M) [application/x-gzip]\n",
      "Saving to: ‘../data/aclImdb_v1.tar.gz’\n",
      "\n",
      "../data/aclImdb_v1. 100%[===================>]  80.23M  43.3MB/s    in 1.9s    \n",
      "\n",
      "2019-05-22 04:21:09 (43.3 MB/s) - ‘../data/aclImdb_v1.tar.gz’ saved [84125825/84125825]\n",
      "\n"
     ]
    }
   ],
   "source": [
    "%mkdir ../data\n",
    "!wget -O ../data/aclImdb_v1.tar.gz http://ai.stanford.edu/~amaas/data/sentiment/aclImdb_v1.tar.gz\n",
    "!tar -zxf ../data/aclImdb_v1.tar.gz -C ../data"
   ]
  },
  {
   "cell_type": "markdown",
   "metadata": {},
   "source": [
    "## Step 2: Preparing the data\n",
    "\n",
    "The data we have downloaded is split into various files, each of which contains a single review. It will be much easier going forward if we combine these individual files into two large files, one for training and one for testing."
   ]
  },
  {
   "cell_type": "code",
   "execution_count": 2,
   "metadata": {},
   "outputs": [],
   "source": [
    "import os\n",
    "import glob\n",
    "\n",
    "def read_imdb_data(data_dir='../data/aclImdb'):\n",
    "    data = {}\n",
    "    labels = {}\n",
    "    \n",
    "    for data_type in ['train', 'test']:\n",
    "        data[data_type] = {}\n",
    "        labels[data_type] = {}\n",
    "        \n",
    "        for sentiment in ['pos', 'neg']:\n",
    "            data[data_type][sentiment] = []\n",
    "            labels[data_type][sentiment] = []\n",
    "            \n",
    "            path = os.path.join(data_dir, data_type, sentiment, '*.txt')\n",
    "            files = glob.glob(path)\n",
    "            \n",
    "            for f in files:\n",
    "                with open(f) as review:\n",
    "                    data[data_type][sentiment].append(review.read())\n",
    "                    # Here we represent a positive review by '1' and a negative review by '0'\n",
    "                    labels[data_type][sentiment].append(1 if sentiment == 'pos' else 0)\n",
    "                    \n",
    "            assert len(data[data_type][sentiment]) == len(labels[data_type][sentiment]), \\\n",
    "                    \"{}/{} data size does not match labels size\".format(data_type, sentiment)\n",
    "                \n",
    "    return data, labels"
   ]
  },
  {
   "cell_type": "code",
   "execution_count": 3,
   "metadata": {},
   "outputs": [
    {
     "name": "stdout",
     "output_type": "stream",
     "text": [
      "IMDB reviews: train = 12500 pos / 12500 neg, test = 12500 pos / 12500 neg\n"
     ]
    }
   ],
   "source": [
    "data, labels = read_imdb_data()\n",
    "print(\"IMDB reviews: train = {} pos / {} neg, test = {} pos / {} neg\".format(\n",
    "            len(data['train']['pos']), len(data['train']['neg']),\n",
    "            len(data['test']['pos']), len(data['test']['neg'])))"
   ]
  },
  {
   "cell_type": "code",
   "execution_count": 4,
   "metadata": {},
   "outputs": [],
   "source": [
    "from sklearn.utils import shuffle\n",
    "\n",
    "def prepare_imdb_data(data, labels):\n",
    "    \"\"\"Prepare training and test sets from IMDb movie reviews.\"\"\"\n",
    "    \n",
    "    #Combine positive and negative reviews and labels\n",
    "    data_train = data['train']['pos'] + data['train']['neg']\n",
    "    data_test = data['test']['pos'] + data['test']['neg']\n",
    "    labels_train = labels['train']['pos'] + labels['train']['neg']\n",
    "    labels_test = labels['test']['pos'] + labels['test']['neg']\n",
    "    \n",
    "    #Shuffle reviews and corresponding labels within training and test sets\n",
    "    data_train, labels_train = shuffle(data_train, labels_train)\n",
    "    data_test, labels_test = shuffle(data_test, labels_test)\n",
    "    \n",
    "    # Return a unified training data, test data, training labels, test labets\n",
    "    return data_train, data_test, labels_train, labels_test"
   ]
  },
  {
   "cell_type": "code",
   "execution_count": 5,
   "metadata": {},
   "outputs": [
    {
     "name": "stdout",
     "output_type": "stream",
     "text": [
      "IMDb reviews (combined): train = 25000, test = 25000\n"
     ]
    }
   ],
   "source": [
    "train_X, test_X, train_y, test_y = prepare_imdb_data(data, labels)\n",
    "print(\"IMDb reviews (combined): train = {}, test = {}\".format(len(train_X), len(test_X)))"
   ]
  },
  {
   "cell_type": "code",
   "execution_count": 6,
   "metadata": {},
   "outputs": [
    {
     "data": {
      "text/plain": [
       "\"I love Dracula but this movie was a complete disappointment! I remember Lee from other Dracula films from when i was younger, and i thought he was great, but this movie was really bad. I don't know if it was my youth that fooled me into believing Lee was the ultimate Dracula, with style, looks, attraction and the evil underneath that. Or maybe it was just this film that disappointed me. <br /><br />But can you imagine Dracula with an snobbish English accent and the body language to go along with it? Do you like when a plot contains unrealistic choices by the characters and is boring and lacks any kind of tension..? Then this is a movie for you! <br /><br />Otherwise - don't see it! I only gave it a 2 because somehow i managed to stay awake during the whole movie.<br /><br />Sorry but if you liked this movie then you must have been sleep deprived and home alone in a dark room with lots of unwatched space behind you. Maybe alone in your parents house or in a strangers home. Cause not even the characters in this flick seemed afraid, and i think that sums up the whole thing!<br /><br />Or maybe you like this film because of it's place in Dracula cinema history, perhaps being fascinated by how the Dracula story has evolved from Nosferatu to what it is today. Cause as movie it isn't that appealing, it doesn't pull you in to the suggestive mystery that for me make the Vampyre myth so fascinating. <br /><br />And furthermore it has so much of that tacky 70ies feel about it. The scenery looks like cheap Theatre. And i don't say that rejecting everything made in the 70ies. Cause i can love old film as well as new.\""
      ]
     },
     "execution_count": 6,
     "metadata": {},
     "output_type": "execute_result"
    }
   ],
   "source": [
    "train_X[100]"
   ]
  },
  {
   "cell_type": "markdown",
   "metadata": {},
   "source": [
    "## Step 3: Processing the data\n",
    "\n",
    "Now that we have our training and testing datasets merged and ready to use, we need to start processing the raw data into something that will be useable by our machine learning algorithm. To begin with, we remove any html formatting that may appear in the reviews and perform some standard natural language processing in order to homogenize the data."
   ]
  },
  {
   "cell_type": "code",
   "execution_count": 7,
   "metadata": {},
   "outputs": [
    {
     "name": "stdout",
     "output_type": "stream",
     "text": [
      "[nltk_data] Downloading package stopwords to\n",
      "[nltk_data]     /home/ec2-user/nltk_data...\n",
      "[nltk_data]   Package stopwords is already up-to-date!\n"
     ]
    }
   ],
   "source": [
    "import nltk\n",
    "nltk.download(\"stopwords\")\n",
    "from nltk.corpus import stopwords\n",
    "from nltk.stem.porter import *\n",
    "stemmer = PorterStemmer()"
   ]
  },
  {
   "cell_type": "code",
   "execution_count": 8,
   "metadata": {},
   "outputs": [],
   "source": [
    "import re\n",
    "from bs4 import BeautifulSoup\n",
    "\n",
    "def review_to_words(review):\n",
    "    text = BeautifulSoup(review, \"html.parser\").get_text() # Remove HTML tags\n",
    "    text = re.sub(r\"[^a-zA-Z0-9]\", \" \", text.lower()) # Convert to lower case\n",
    "    words = text.split() # Split string into words\n",
    "    words = [w for w in words if w not in stopwords.words(\"english\")] # Remove stopwords\n",
    "    words = [PorterStemmer().stem(w) for w in words] # stem\n",
    "    \n",
    "    return words"
   ]
  },
  {
   "cell_type": "code",
   "execution_count": 9,
   "metadata": {},
   "outputs": [],
   "source": [
    "import pickle\n",
    "\n",
    "cache_dir = os.path.join(\"../cache\", \"sentiment_analysis\")  # where to store cache files\n",
    "os.makedirs(cache_dir, exist_ok=True)  # ensure cache directory exists\n",
    "\n",
    "def preprocess_data(data_train, data_test, labels_train, labels_test,\n",
    "                    cache_dir=cache_dir, cache_file=\"preprocessed_data.pkl\"):\n",
    "    \"\"\"Convert each review to words; read from cache if available.\"\"\"\n",
    "\n",
    "    # If cache_file is not None, try to read from it first\n",
    "    cache_data = None\n",
    "    if cache_file is not None:\n",
    "        try:\n",
    "            with open(os.path.join(cache_dir, cache_file), \"rb\") as f:\n",
    "                cache_data = pickle.load(f)\n",
    "            print(\"Read preprocessed data from cache file:\", cache_file)\n",
    "        except:\n",
    "            pass  # unable to read from cache, but that's okay\n",
    "    \n",
    "    # If cache is missing, then do the heavy lifting\n",
    "    if cache_data is None:\n",
    "        # Preprocess training and test data to obtain words for each review\n",
    "        #words_train = list(map(review_to_words, data_train))\n",
    "        #words_test = list(map(review_to_words, data_test))\n",
    "        words_train = [review_to_words(review) for review in data_train]\n",
    "        words_test = [review_to_words(review) for review in data_test]\n",
    "        \n",
    "        # Write to cache file for future runs\n",
    "        if cache_file is not None:\n",
    "            cache_data = dict(words_train=words_train, words_test=words_test,\n",
    "                              labels_train=labels_train, labels_test=labels_test)\n",
    "            with open(os.path.join(cache_dir, cache_file), \"wb\") as f:\n",
    "                pickle.dump(cache_data, f)\n",
    "            print(\"Wrote preprocessed data to cache file:\", cache_file)\n",
    "    else:\n",
    "        # Unpack data loaded from cache file\n",
    "        words_train, words_test, labels_train, labels_test = (cache_data['words_train'],\n",
    "                cache_data['words_test'], cache_data['labels_train'], cache_data['labels_test'])\n",
    "    \n",
    "    return words_train, words_test, labels_train, labels_test"
   ]
  },
  {
   "cell_type": "code",
   "execution_count": 10,
   "metadata": {},
   "outputs": [
    {
     "name": "stdout",
     "output_type": "stream",
     "text": [
      "Read preprocessed data from cache file: preprocessed_data.pkl\n"
     ]
    }
   ],
   "source": [
    "# Preprocess data\n",
    "train_X, test_X, train_y, test_y = preprocess_data(train_X, test_X, train_y, test_y)"
   ]
  },
  {
   "cell_type": "markdown",
   "metadata": {},
   "source": [
    "### Extract Bag-of-Words features\n",
    "\n",
    "For the model we will be implementing, rather than using the reviews directly, we are going to transform each review into a Bag-of-Words feature representation. Keep in mind that 'in the wild' we will only have access to the training set so our transformer can only use the training set to construct a representation."
   ]
  },
  {
   "cell_type": "code",
   "execution_count": 11,
   "metadata": {},
   "outputs": [],
   "source": [
    "import numpy as np\n",
    "from sklearn.feature_extraction.text import CountVectorizer\n",
    "from sklearn.externals import joblib\n",
    "# joblib is an enhanced version of pickle that is more efficient for storing NumPy arrays\n",
    "\n",
    "def extract_BoW_features(words_train, words_test, vocabulary_size=5000,\n",
    "                         cache_dir=cache_dir, cache_file=\"bow_features.pkl\"):\n",
    "    \"\"\"Extract Bag-of-Words for a given set of documents, already preprocessed into words.\"\"\"\n",
    "    \n",
    "    # If cache_file is not None, try to read from it first\n",
    "    cache_data = None\n",
    "    if cache_file is not None:\n",
    "        try:\n",
    "            with open(os.path.join(cache_dir, cache_file), \"rb\") as f:\n",
    "                cache_data = joblib.load(f)\n",
    "            print(\"Read features from cache file:\", cache_file)\n",
    "        except:\n",
    "            pass  # unable to read from cache, but that's okay\n",
    "    \n",
    "    # If cache is missing, then do the heavy lifting\n",
    "    if cache_data is None:\n",
    "        # Fit a vectorizer to training documents and use it to transform them\n",
    "        # NOTE: Training documents have already been preprocessed and tokenized into words;\n",
    "        #       pass in dummy functions to skip those steps, e.g. preprocessor=lambda x: x\n",
    "        vectorizer = CountVectorizer(max_features=vocabulary_size,\n",
    "                preprocessor=lambda x: x, tokenizer=lambda x: x)  # already preprocessed\n",
    "        features_train = vectorizer.fit_transform(words_train).toarray()\n",
    "\n",
    "        # Apply the same vectorizer to transform the test documents (ignore unknown words)\n",
    "        features_test = vectorizer.transform(words_test).toarray()\n",
    "        \n",
    "        # NOTE: Remember to convert the features using .toarray() for a compact representation\n",
    "        \n",
    "        # Write to cache file for future runs (store vocabulary as well)\n",
    "        if cache_file is not None:\n",
    "            vocabulary = vectorizer.vocabulary_\n",
    "            cache_data = dict(features_train=features_train, features_test=features_test,\n",
    "                             vocabulary=vocabulary)\n",
    "            with open(os.path.join(cache_dir, cache_file), \"wb\") as f:\n",
    "                joblib.dump(cache_data, f)\n",
    "            print(\"Wrote features to cache file:\", cache_file)\n",
    "    else:\n",
    "        # Unpack data loaded from cache file\n",
    "        features_train, features_test, vocabulary = (cache_data['features_train'],\n",
    "                cache_data['features_test'], cache_data['vocabulary'])\n",
    "    \n",
    "    # Return both the extracted features as well as the vocabulary\n",
    "    return features_train, features_test, vocabulary"
   ]
  },
  {
   "cell_type": "code",
   "execution_count": 12,
   "metadata": {},
   "outputs": [
    {
     "name": "stdout",
     "output_type": "stream",
     "text": [
      "Wrote features to cache file: bow_features.pkl\n"
     ]
    }
   ],
   "source": [
    "# Extract Bag of Words features for both training and test datasets\n",
    "train_X, test_X, vocabulary = extract_BoW_features(train_X, test_X)"
   ]
  },
  {
   "cell_type": "markdown",
   "metadata": {},
   "source": [
    "## Step 4: Classification using XGBoost\n",
    "\n",
    "Now that we have created the feature representation of our training (and testing) data, it is time to start setting up and using the XGBoost classifier provided by SageMaker.\n",
    "\n",
    "### Writing the dataset\n",
    "\n",
    "The XGBoost classifier that we will be using requires the dataset to be written to a file and stored using Amazon S3. To do this, we will start by splitting the training dataset into two parts, the data we will train the model with and a validation set. Then, we will write those datasets to a file and upload the files to S3. In addition, we will write the test set input to a file and upload the file to S3. This is so that we can use SageMakers Batch Transform functionality to test our model once we've fit it."
   ]
  },
  {
   "cell_type": "code",
   "execution_count": 13,
   "metadata": {},
   "outputs": [],
   "source": [
    "import pandas as pd\n",
    "\n",
    "val_X = pd.DataFrame(train_X[:10000])\n",
    "train_X = pd.DataFrame(train_X[10000:])\n",
    "\n",
    "val_y = pd.DataFrame(train_y[:10000])\n",
    "train_y = pd.DataFrame(train_y[10000:])\n",
    "\n",
    "test_y = pd.DataFrame(test_y)\n",
    "test_X = pd.DataFrame(test_X)"
   ]
  },
  {
   "cell_type": "markdown",
   "metadata": {},
   "source": [
    "The documentation for the XGBoost algorithm in SageMaker requires that the saved datasets should contain no headers or index and that for the training and validation data, the label should occur first for each sample.\n",
    "\n",
    "For more information about this and other algorithms, the SageMaker developer documentation can be found on __[Amazon's website.](https://docs.aws.amazon.com/sagemaker/latest/dg/)__"
   ]
  },
  {
   "cell_type": "code",
   "execution_count": null,
   "metadata": {},
   "outputs": [],
   "source": [
    "# First we make sure that the local directory in which we'd like to store the training and validation csv files exists.\n",
    "data_dir = '../data/xgboost'\n",
    "if not os.path.exists(data_dir):\n",
    "    os.makedirs(data_dir)"
   ]
  },
  {
   "cell_type": "code",
   "execution_count": null,
   "metadata": {},
   "outputs": [],
   "source": [
    "# First, save the test data to test.csv in the data_dir directory. Note that we do not save the associated ground truth\n",
    "# labels, instead we will use them later to compare with our model output.\n",
    "\n",
    "pd.DataFrame(test_X).to_csv(os.path.join(data_dir, 'test.csv'), header=False, index=False)\n",
    "pd.concat([val_y, val_X], axis=1).to_csv(os.path.join(data_dir, 'validation.csv'), header=False, index=False)\n",
    "pd.concat([train_y, train_X], axis=1).to_csv(os.path.join(data_dir, 'train.csv'), header=False, index=False)"
   ]
  },
  {
   "cell_type": "code",
   "execution_count": null,
   "metadata": {},
   "outputs": [],
   "source": [
    "# To save a bit of memory we can set text_X, train_X, val_X, train_y and val_y to None.\n",
    "\n",
    "train_X = val_X = train_y = val_y = None"
   ]
  },
  {
   "cell_type": "markdown",
   "metadata": {},
   "source": [
    "### Uploading Training / Validation files to S3\n",
    "\n",
    "Amazon's S3 service allows us to store files that can be access by both the built-in training models such as the XGBoost model we will be using as well as custom models such as the one we will see a little later.\n",
    "\n",
    "For this, and most other tasks we will be doing using SageMaker, there are two methods we could use. The first is to use the low level functionality of SageMaker which requires knowing each of the objects involved in the SageMaker environment. The second is to use the high level functionality in which certain choices have been made on the user's behalf. The low level approach benefits from allowing the user a great deal of flexibility while the high level approach makes development much quicker. For our purposes we will opt to use the high level approach although using the low-level approach is certainly an option.\n",
    "\n",
    "Recall the method `upload_data()` which is a member of object representing our current SageMaker session. What this method does is upload the data to the default bucket (which is created if it does not exist) into the path described by the key_prefix variable. To see this for yourself, once you have uploaded the data files, go to the S3 console and look to see where the files have been uploaded.\n",
    "\n",
    "For additional resources, see the __[SageMaker API documentation](http://sagemaker.readthedocs.io/en/latest/)__ and in addition the __[SageMaker Developer Guide.](https://docs.aws.amazon.com/sagemaker/latest/dg/)__"
   ]
  },
  {
   "cell_type": "code",
   "execution_count": null,
   "metadata": {},
   "outputs": [],
   "source": [
    "import sagemaker\n",
    "\n",
    "session = sagemaker.Session() # Store the current SageMaker session\n",
    "\n",
    "# S3 prefix (which folder will we use)\n",
    "prefix = 'sentiment-xgboost'\n",
    "\n",
    "test_location = session.upload_data(os.path.join(data_dir, 'test.csv'), key_prefix=prefix)\n",
    "val_location = session.upload_data(os.path.join(data_dir, 'validation.csv'), key_prefix=prefix)\n",
    "train_location = session.upload_data(os.path.join(data_dir, 'train.csv'), key_prefix=prefix)"
   ]
  },
  {
   "cell_type": "markdown",
   "metadata": {},
   "source": [
    "### (TODO) Creating a hypertuned XGBoost model\n",
    "\n",
    "Now that the data has been uploaded it is time to create the XGBoost model. As in the Boston Housing notebook, the first step is to create an estimator object which will be used as the *base* of your hyperparameter tuning job."
   ]
  },
  {
   "cell_type": "code",
   "execution_count": 4,
   "metadata": {},
   "outputs": [],
   "source": [
    "from sagemaker import get_execution_role\n",
    "\n",
    "# Our current execution role is require when creating the model as the training\n",
    "# and inference code will need to access the model artifacts.\n",
    "role = get_execution_role()"
   ]
  },
  {
   "cell_type": "code",
   "execution_count": 5,
   "metadata": {},
   "outputs": [],
   "source": [
    "# We need to retrieve the location of the container which is provided by Amazon for using XGBoost.\n",
    "# As a matter of convenience, the training and inference code both use the same container.\n",
    "from sagemaker.amazon.amazon_estimator import get_image_uri\n",
    "\n",
    "container = get_image_uri(session.boto_region_name, 'xgboost')"
   ]
  },
  {
   "cell_type": "code",
   "execution_count": 6,
   "metadata": {},
   "outputs": [],
   "source": [
    "# TODO: Create a SageMaker estimator using the container location determined in the previous cell.\n",
    "#       It is recommended that you use a single training instance of type ml.m4.xlarge. It is also\n",
    "#       recommended that you use 's3://{}/{}/output'.format(session.default_bucket(), prefix) as the\n",
    "#       output path.\n",
    "\n",
    "xgb = sagemaker.estimator.Estimator(container,\n",
    "                                    role,\n",
    "                                    train_instance_count=1,\n",
    "                                    train_instance_type=\"ml.m4.xlarge\",\n",
    "                                    output_path=f\"s3://{session.default_bucket()}/{prefix}/output\",\n",
    "                                    sagemaker_session=session)\n",
    "\n",
    "# TODO: Set the XGBoost hyperparameters in the xgb object. Don't forget that in this case we have a binary\n",
    "#       label so we should be using the 'binary:logistic' objective.\n",
    "\n",
    "xgb.set_hyperparameters(max_depth=5,\n",
    "                        eta=0.2,\n",
    "                        gamma=4,\n",
    "                        min_child_weight=6,\n",
    "                        subsample=0.8,\n",
    "                        objective=\"binary:logistic\",\n",
    "                        early_stopping_rounds=10,\n",
    "                        num_round=200)"
   ]
  },
  {
   "cell_type": "markdown",
   "metadata": {},
   "source": [
    "### (TODO) Create the hyperparameter tuner\n",
    "\n",
    "Now that the base estimator has been set up we need to construct a hyperparameter tuner object which we will use to request SageMaker construct a hyperparameter tuning job.\n",
    "\n",
    "**Note:** Training a single sentiment analysis XGBoost model takes longer than training a Boston Housing XGBoost model so if you don't want the hyperparameter tuning job to take too long, make sure to not set the total number of models (jobs) too high."
   ]
  },
  {
   "cell_type": "code",
   "execution_count": 8,
   "metadata": {
    "lines_to_next_cell": 2
   },
   "outputs": [],
   "source": [
    "# First, make sure to import the relevant objects used to construct the tuner\n",
    "from sagemaker.tuner import IntegerParameter, ContinuousParameter, HyperparameterTuner\n",
    "\n",
    "# TODO: Create the hyperparameter tuner object\n",
    "\n",
    "xgb_hyperparameter_tuner = HyperparameterTuner(estimator=xgb,\n",
    "                                               objective_metric_name=\"validation:rmse\",\n",
    "                                               objective_type=\"Minimize\",\n",
    "                                               max_jobs=20,\n",
    "                                               max_parallel_jobs=3,\n",
    "                                               hyperparameter_ranges={\n",
    "                                                   \"max_depth\": IntegerParameter(3, 12),\n",
    "                                                   \"eta\": ContinuousParameter(0.05, 0.5),\n",
    "                                                   \"min_child_weight\": IntegerParameter(2, 8),\n",
    "                                                   \"subsample\": ContinuousParameter(0.5, 0.9),\n",
    "                                                   \"gamma\": ContinuousParameter(0, 10)\n",
    "                                               })"
   ]
  },
  {
   "cell_type": "markdown",
   "metadata": {},
   "source": [
    "### Fit the hyperparameter tuner\n",
    "\n",
    "Now that the hyperparameter tuner object has been constructed, it is time to fit the various models and find the best performing model."
   ]
  },
  {
   "cell_type": "code",
   "execution_count": 14,
   "metadata": {},
   "outputs": [],
   "source": [
    "s3_input_train = sagemaker.s3_input(s3_data=train_location, content_type='csv')\n",
    "s3_input_validation = sagemaker.s3_input(s3_data=val_location, content_type='csv')"
   ]
  },
  {
   "cell_type": "code",
   "execution_count": 15,
   "metadata": {},
   "outputs": [],
   "source": [
    "xgb_hyperparameter_tuner.fit({'train': s3_input_train, 'validation': s3_input_validation})"
   ]
  },
  {
   "cell_type": "markdown",
   "metadata": {},
   "source": [
    "Remember that the tuning job is constructed and run in the background so if we want to see the progress of our training job we need to call the `wait()` method."
   ]
  },
  {
   "cell_type": "code",
   "execution_count": 16,
   "metadata": {},
   "outputs": [
    {
     "name": "stdout",
     "output_type": "stream",
     "text": [
      "........................................................................................................................................................................................................................................__s\n"
     ]
    }
   ],
   "source": [
    "xgb_hyperparameter_tuner.wait()"
   ]
  },
  {
   "cell_type": "code",
   "execution_count": 34,
   "metadata": {},
   "outputs": [
    {
     "data": {
      "text/html": [
       "<div>\n",
       "<style scoped>\n",
       "    .dataframe tbody tr th:only-of-type {\n",
       "        vertical-align: middle;\n",
       "    }\n",
       "\n",
       "    .dataframe tbody tr th {\n",
       "        vertical-align: top;\n",
       "    }\n",
       "\n",
       "    .dataframe thead th {\n",
       "        text-align: right;\n",
       "    }\n",
       "</style>\n",
       "<table border=\"1\" class=\"dataframe\">\n",
       "  <thead>\n",
       "    <tr style=\"text-align: right;\">\n",
       "      <th></th>\n",
       "      <th>FinalObjectiveValue</th>\n",
       "      <th>TrainingElapsedTimeSeconds</th>\n",
       "      <th>TrainingEndTime</th>\n",
       "      <th>TrainingJobName</th>\n",
       "      <th>TrainingJobStatus</th>\n",
       "      <th>TrainingStartTime</th>\n",
       "      <th>eta</th>\n",
       "      <th>gamma</th>\n",
       "      <th>max_depth</th>\n",
       "      <th>min_child_weight</th>\n",
       "      <th>subsample</th>\n",
       "    </tr>\n",
       "  </thead>\n",
       "  <tbody>\n",
       "    <tr>\n",
       "      <th>4</th>\n",
       "      <td>0.313030</td>\n",
       "      <td>441.0</td>\n",
       "      <td>2019-05-22 03:02:22+00:00</td>\n",
       "      <td>xgboost-190522-0243-005-bf503f99</td>\n",
       "      <td>Completed</td>\n",
       "      <td>2019-05-22 02:55:01+00:00</td>\n",
       "      <td>0.268595</td>\n",
       "      <td>0.445803</td>\n",
       "      <td>9.0</td>\n",
       "      <td>6.0</td>\n",
       "      <td>0.688112</td>\n",
       "    </tr>\n",
       "    <tr>\n",
       "      <th>6</th>\n",
       "      <td>0.313576</td>\n",
       "      <td>347.0</td>\n",
       "      <td>2019-05-22 02:52:04+00:00</td>\n",
       "      <td>xgboost-190522-0243-003-9b18437f</td>\n",
       "      <td>Completed</td>\n",
       "      <td>2019-05-22 02:46:17+00:00</td>\n",
       "      <td>0.280172</td>\n",
       "      <td>2.436066</td>\n",
       "      <td>5.0</td>\n",
       "      <td>3.0</td>\n",
       "      <td>0.792564</td>\n",
       "    </tr>\n",
       "    <tr>\n",
       "      <th>8</th>\n",
       "      <td>0.316312</td>\n",
       "      <td>350.0</td>\n",
       "      <td>2019-05-22 02:51:51+00:00</td>\n",
       "      <td>xgboost-190522-0243-001-1ecc3a66</td>\n",
       "      <td>Completed</td>\n",
       "      <td>2019-05-22 02:46:01+00:00</td>\n",
       "      <td>0.305308</td>\n",
       "      <td>0.294643</td>\n",
       "      <td>4.0</td>\n",
       "      <td>6.0</td>\n",
       "      <td>0.506675</td>\n",
       "    </tr>\n",
       "    <tr>\n",
       "      <th>5</th>\n",
       "      <td>0.316717</td>\n",
       "      <td>431.0</td>\n",
       "      <td>2019-05-22 02:59:29+00:00</td>\n",
       "      <td>xgboost-190522-0243-004-654cfe15</td>\n",
       "      <td>Completed</td>\n",
       "      <td>2019-05-22 02:52:18+00:00</td>\n",
       "      <td>0.282067</td>\n",
       "      <td>8.240102</td>\n",
       "      <td>10.0</td>\n",
       "      <td>5.0</td>\n",
       "      <td>0.853400</td>\n",
       "    </tr>\n",
       "    <tr>\n",
       "      <th>3</th>\n",
       "      <td>0.321290</td>\n",
       "      <td>194.0</td>\n",
       "      <td>2019-05-22 02:58:27+00:00</td>\n",
       "      <td>xgboost-190522-0243-006-c6e6cf99</td>\n",
       "      <td>Completed</td>\n",
       "      <td>2019-05-22 02:55:13+00:00</td>\n",
       "      <td>0.492881</td>\n",
       "      <td>2.021731</td>\n",
       "      <td>5.0</td>\n",
       "      <td>2.0</td>\n",
       "      <td>0.847821</td>\n",
       "    </tr>\n",
       "    <tr>\n",
       "      <th>7</th>\n",
       "      <td>0.339441</td>\n",
       "      <td>242.0</td>\n",
       "      <td>2019-05-22 02:49:56+00:00</td>\n",
       "      <td>xgboost-190522-0243-002-e33c4c5d</td>\n",
       "      <td>Completed</td>\n",
       "      <td>2019-05-22 02:45:54+00:00</td>\n",
       "      <td>0.114358</td>\n",
       "      <td>3.665182</td>\n",
       "      <td>3.0</td>\n",
       "      <td>4.0</td>\n",
       "      <td>0.511143</td>\n",
       "    </tr>\n",
       "    <tr>\n",
       "      <th>0</th>\n",
       "      <td>NaN</td>\n",
       "      <td>NaN</td>\n",
       "      <td>2019-05-22 03:03:17+00:00</td>\n",
       "      <td>xgboost-190522-0243-009-6a4c16b6</td>\n",
       "      <td>Stopped</td>\n",
       "      <td>NaT</td>\n",
       "      <td>0.462032</td>\n",
       "      <td>7.478383</td>\n",
       "      <td>11.0</td>\n",
       "      <td>8.0</td>\n",
       "      <td>0.600869</td>\n",
       "    </tr>\n",
       "    <tr>\n",
       "      <th>1</th>\n",
       "      <td>NaN</td>\n",
       "      <td>58.0</td>\n",
       "      <td>2019-05-22 03:03:19+00:00</td>\n",
       "      <td>xgboost-190522-0243-008-1f421a5b</td>\n",
       "      <td>Stopped</td>\n",
       "      <td>2019-05-22 03:02:21+00:00</td>\n",
       "      <td>0.342952</td>\n",
       "      <td>4.208425</td>\n",
       "      <td>9.0</td>\n",
       "      <td>3.0</td>\n",
       "      <td>0.886322</td>\n",
       "    </tr>\n",
       "    <tr>\n",
       "      <th>2</th>\n",
       "      <td>NaN</td>\n",
       "      <td>62.0</td>\n",
       "      <td>2019-05-22 03:03:21+00:00</td>\n",
       "      <td>xgboost-190522-0243-007-5d11a63c</td>\n",
       "      <td>Stopped</td>\n",
       "      <td>2019-05-22 03:02:19+00:00</td>\n",
       "      <td>0.462032</td>\n",
       "      <td>7.478383</td>\n",
       "      <td>11.0</td>\n",
       "      <td>8.0</td>\n",
       "      <td>0.608869</td>\n",
       "    </tr>\n",
       "  </tbody>\n",
       "</table>\n",
       "</div>"
      ],
      "text/plain": [
       "   FinalObjectiveValue  TrainingElapsedTimeSeconds           TrainingEndTime  \\\n",
       "4             0.313030                       441.0 2019-05-22 03:02:22+00:00   \n",
       "6             0.313576                       347.0 2019-05-22 02:52:04+00:00   \n",
       "8             0.316312                       350.0 2019-05-22 02:51:51+00:00   \n",
       "5             0.316717                       431.0 2019-05-22 02:59:29+00:00   \n",
       "3             0.321290                       194.0 2019-05-22 02:58:27+00:00   \n",
       "7             0.339441                       242.0 2019-05-22 02:49:56+00:00   \n",
       "0                  NaN                         NaN 2019-05-22 03:03:17+00:00   \n",
       "1                  NaN                        58.0 2019-05-22 03:03:19+00:00   \n",
       "2                  NaN                        62.0 2019-05-22 03:03:21+00:00   \n",
       "\n",
       "                    TrainingJobName TrainingJobStatus  \\\n",
       "4  xgboost-190522-0243-005-bf503f99         Completed   \n",
       "6  xgboost-190522-0243-003-9b18437f         Completed   \n",
       "8  xgboost-190522-0243-001-1ecc3a66         Completed   \n",
       "5  xgboost-190522-0243-004-654cfe15         Completed   \n",
       "3  xgboost-190522-0243-006-c6e6cf99         Completed   \n",
       "7  xgboost-190522-0243-002-e33c4c5d         Completed   \n",
       "0  xgboost-190522-0243-009-6a4c16b6           Stopped   \n",
       "1  xgboost-190522-0243-008-1f421a5b           Stopped   \n",
       "2  xgboost-190522-0243-007-5d11a63c           Stopped   \n",
       "\n",
       "          TrainingStartTime       eta     gamma  max_depth  min_child_weight  \\\n",
       "4 2019-05-22 02:55:01+00:00  0.268595  0.445803        9.0               6.0   \n",
       "6 2019-05-22 02:46:17+00:00  0.280172  2.436066        5.0               3.0   \n",
       "8 2019-05-22 02:46:01+00:00  0.305308  0.294643        4.0               6.0   \n",
       "5 2019-05-22 02:52:18+00:00  0.282067  8.240102       10.0               5.0   \n",
       "3 2019-05-22 02:55:13+00:00  0.492881  2.021731        5.0               2.0   \n",
       "7 2019-05-22 02:45:54+00:00  0.114358  3.665182        3.0               4.0   \n",
       "0                       NaT  0.462032  7.478383       11.0               8.0   \n",
       "1 2019-05-22 03:02:21+00:00  0.342952  4.208425        9.0               3.0   \n",
       "2 2019-05-22 03:02:19+00:00  0.462032  7.478383       11.0               8.0   \n",
       "\n",
       "   subsample  \n",
       "4   0.688112  \n",
       "6   0.792564  \n",
       "8   0.506675  \n",
       "5   0.853400  \n",
       "3   0.847821  \n",
       "7   0.511143  \n",
       "0   0.600869  \n",
       "1   0.886322  \n",
       "2   0.608869  "
      ]
     },
     "execution_count": 34,
     "metadata": {},
     "output_type": "execute_result"
    }
   ],
   "source": [
    "xgb_hyperparameter_tuner_metrics = sagemaker.HyperparameterTuningJobAnalytics(xgb_hyperparameter_tuner.latest_tuning_job.name)\n",
    "xgb_hyperparameter_tuner_metrics.dataframe().sort_values(['FinalObjectiveValue'], ascending=True)"
   ]
  },
  {
   "cell_type": "markdown",
   "metadata": {},
   "source": [
    "### (TODO) Testing the model\n",
    "\n",
    "Now that we've run our hyperparameter tuning job, it's time to see how well the best performing model actually performs. To do this we will use SageMaker's Batch Transform functionality. Batch Transform is a convenient way to perform inference on a large dataset in a way that is not realtime. That is, we don't necessarily need to use our model's results immediately and instead we can peform inference on a large number of samples. An example of this in industry might be peforming an end of month report. This method of inference can also be useful to us as it means to can perform inference on our entire test set. \n",
    "\n",
    "Remember that in order to create a transformer object to perform the batch transform job, we need a trained estimator object. We can do that using the `attach()` method, creating an estimator object which is attached to the best trained job."
   ]
  },
  {
   "cell_type": "code",
   "execution_count": 17,
   "metadata": {
    "lines_to_next_cell": 2
   },
   "outputs": [
    {
     "name": "stdout",
     "output_type": "stream",
     "text": [
      "2019-05-22 03:02:22 Starting - Preparing the instances for training\n",
      "2019-05-22 03:02:22 Downloading - Downloading input data\n",
      "2019-05-22 03:02:22 Training - Training image download completed. Training in progress.\n",
      "2019-05-22 03:02:22 Uploading - Uploading generated training model\n",
      "2019-05-22 03:02:22 Completed - Training job completed\u001b[31mArguments: train\u001b[0m\n",
      "\u001b[31m[2019-05-22:02:55:12:INFO] Running standalone xgboost training.\u001b[0m\n",
      "\u001b[31m[2019-05-22:02:55:12:INFO] Setting up HPO optimized metric to be : rmse\u001b[0m\n",
      "\u001b[31m[2019-05-22:02:55:12:INFO] File size need to be processed in the node: 238.47mb. Available memory size in the node: 8387.17mb\u001b[0m\n",
      "\u001b[31m[2019-05-22:02:55:12:INFO] Determined delimiter of CSV input is ','\u001b[0m\n",
      "\u001b[31m[02:55:12] S3DistributionType set as FullyReplicated\u001b[0m\n",
      "\u001b[31m[02:55:14] 15000x5000 matrix with 75000000 entries loaded from /opt/ml/input/data/train?format=csv&label_column=0&delimiter=,\u001b[0m\n",
      "\u001b[31m[2019-05-22:02:55:14:INFO] Determined delimiter of CSV input is ','\u001b[0m\n",
      "\u001b[31m[02:55:14] S3DistributionType set as FullyReplicated\u001b[0m\n",
      "\u001b[31m[02:55:15] 10000x5000 matrix with 50000000 entries loaded from /opt/ml/input/data/validation?format=csv&label_column=0&delimiter=,\u001b[0m\n",
      "\u001b[31m[02:55:20] src/tree/updater_prune.cc:74: tree pruning end, 1 roots, 152 extra nodes, 6 pruned nodes, max_depth=9\u001b[0m\n",
      "\u001b[31m[0]#011train-rmse:0.465508#011validation-rmse:0.467734\u001b[0m\n",
      "\u001b[31mMultiple eval metrics have been passed: 'validation-rmse' will be used for early stopping.\n",
      "\u001b[0m\n",
      "\u001b[31mWill train until validation-rmse hasn't improved in 10 rounds.\u001b[0m\n",
      "\u001b[31m[02:55:22] src/tree/updater_prune.cc:74: tree pruning end, 1 roots, 122 extra nodes, 2 pruned nodes, max_depth=9\u001b[0m\n",
      "\u001b[31m[1]#011train-rmse:0.443304#011validation-rmse:0.448054\u001b[0m\n",
      "\u001b[31m[02:55:24] src/tree/updater_prune.cc:74: tree pruning end, 1 roots, 128 extra nodes, 6 pruned nodes, max_depth=9\u001b[0m\n",
      "\u001b[31m[2]#011train-rmse:0.426907#011validation-rmse:0.433776\u001b[0m\n",
      "\u001b[31m[02:55:27] src/tree/updater_prune.cc:74: tree pruning end, 1 roots, 102 extra nodes, 6 pruned nodes, max_depth=9\u001b[0m\n",
      "\u001b[31m[3]#011train-rmse:0.414232#011validation-rmse:0.422464\u001b[0m\n",
      "\u001b[31m[02:55:30] src/tree/updater_prune.cc:74: tree pruning end, 1 roots, 82 extra nodes, 2 pruned nodes, max_depth=9\u001b[0m\n",
      "\u001b[31m[4]#011train-rmse:0.404476#011validation-rmse:0.414182\u001b[0m\n",
      "\u001b[31m[02:55:32] src/tree/updater_prune.cc:74: tree pruning end, 1 roots, 112 extra nodes, 6 pruned nodes, max_depth=9\u001b[0m\n",
      "\u001b[31m[5]#011train-rmse:0.395677#011validation-rmse:0.407342\u001b[0m\n",
      "\u001b[31m[02:55:35] src/tree/updater_prune.cc:74: tree pruning end, 1 roots, 108 extra nodes, 2 pruned nodes, max_depth=9\u001b[0m\n",
      "\u001b[31m[6]#011train-rmse:0.388146#011validation-rmse:0.400629\u001b[0m\n",
      "\u001b[31m[02:55:37] src/tree/updater_prune.cc:74: tree pruning end, 1 roots, 88 extra nodes, 4 pruned nodes, max_depth=9\u001b[0m\n",
      "\u001b[31m[7]#011train-rmse:0.380153#011validation-rmse:0.395397\u001b[0m\n",
      "\u001b[31m[02:55:40] src/tree/updater_prune.cc:74: tree pruning end, 1 roots, 80 extra nodes, 4 pruned nodes, max_depth=9\u001b[0m\n",
      "\u001b[31m[8]#011train-rmse:0.373799#011validation-rmse:0.390369\u001b[0m\n",
      "\u001b[31m[02:55:42] src/tree/updater_prune.cc:74: tree pruning end, 1 roots, 78 extra nodes, 4 pruned nodes, max_depth=9\u001b[0m\n",
      "\u001b[31m[9]#011train-rmse:0.368329#011validation-rmse:0.386522\u001b[0m\n",
      "\u001b[31m[02:55:45] src/tree/updater_prune.cc:74: tree pruning end, 1 roots, 106 extra nodes, 0 pruned nodes, max_depth=9\u001b[0m\n",
      "\u001b[31m[10]#011train-rmse:0.362841#011validation-rmse:0.383136\u001b[0m\n",
      "\u001b[31m[02:55:47] src/tree/updater_prune.cc:74: tree pruning end, 1 roots, 74 extra nodes, 0 pruned nodes, max_depth=9\u001b[0m\n",
      "\u001b[31m[11]#011train-rmse:0.357982#011validation-rmse:0.379443\u001b[0m\n",
      "\u001b[31m[02:55:50] src/tree/updater_prune.cc:74: tree pruning end, 1 roots, 74 extra nodes, 6 pruned nodes, max_depth=9\u001b[0m\n",
      "\u001b[31m[12]#011train-rmse:0.353806#011validation-rmse:0.375799\u001b[0m\n",
      "\u001b[31m[02:55:52] src/tree/updater_prune.cc:74: tree pruning end, 1 roots, 70 extra nodes, 6 pruned nodes, max_depth=9\u001b[0m\n",
      "\u001b[31m[13]#011train-rmse:0.349928#011validation-rmse:0.372823\u001b[0m\n",
      "\u001b[31m[02:55:55] src/tree/updater_prune.cc:74: tree pruning end, 1 roots, 80 extra nodes, 6 pruned nodes, max_depth=9\u001b[0m\n",
      "\u001b[31m[14]#011train-rmse:0.345606#011validation-rmse:0.369692\u001b[0m\n",
      "\u001b[31m[02:55:57] src/tree/updater_prune.cc:74: tree pruning end, 1 roots, 116 extra nodes, 4 pruned nodes, max_depth=9\u001b[0m\n",
      "\u001b[31m[15]#011train-rmse:0.341297#011validation-rmse:0.36806\u001b[0m\n",
      "\u001b[31m[02:56:00] src/tree/updater_prune.cc:74: tree pruning end, 1 roots, 72 extra nodes, 4 pruned nodes, max_depth=9\u001b[0m\n",
      "\u001b[31m[16]#011train-rmse:0.33808#011validation-rmse:0.366485\u001b[0m\n",
      "\u001b[31m[02:56:02] src/tree/updater_prune.cc:74: tree pruning end, 1 roots, 100 extra nodes, 2 pruned nodes, max_depth=9\u001b[0m\n",
      "\u001b[31m[17]#011train-rmse:0.333825#011validation-rmse:0.364669\u001b[0m\n",
      "\u001b[31m[02:56:04] src/tree/updater_prune.cc:74: tree pruning end, 1 roots, 120 extra nodes, 0 pruned nodes, max_depth=9\u001b[0m\n",
      "\u001b[31m[18]#011train-rmse:0.330035#011validation-rmse:0.363452\u001b[0m\n",
      "\u001b[31m[02:56:07] src/tree/updater_prune.cc:74: tree pruning end, 1 roots, 100 extra nodes, 4 pruned nodes, max_depth=9\u001b[0m\n",
      "\u001b[31m[19]#011train-rmse:0.326593#011validation-rmse:0.361057\u001b[0m\n",
      "\u001b[31m[02:56:09] src/tree/updater_prune.cc:74: tree pruning end, 1 roots, 96 extra nodes, 4 pruned nodes, max_depth=9\u001b[0m\n",
      "\u001b[31m[20]#011train-rmse:0.322881#011validation-rmse:0.359143\u001b[0m\n",
      "\u001b[31m[02:56:12] src/tree/updater_prune.cc:74: tree pruning end, 1 roots, 50 extra nodes, 2 pruned nodes, max_depth=9\u001b[0m\n",
      "\u001b[31m[21]#011train-rmse:0.320415#011validation-rmse:0.357216\u001b[0m\n",
      "\u001b[31m[02:56:14] src/tree/updater_prune.cc:74: tree pruning end, 1 roots, 74 extra nodes, 2 pruned nodes, max_depth=9\u001b[0m\n",
      "\u001b[31m[22]#011train-rmse:0.317895#011validation-rmse:0.356021\u001b[0m\n",
      "\u001b[31m[02:56:17] src/tree/updater_prune.cc:74: tree pruning end, 1 roots, 50 extra nodes, 2 pruned nodes, max_depth=9\u001b[0m\n",
      "\u001b[31m[23]#011train-rmse:0.315867#011validation-rmse:0.354691\u001b[0m\n",
      "\u001b[31m[02:56:19] src/tree/updater_prune.cc:74: tree pruning end, 1 roots, 76 extra nodes, 2 pruned nodes, max_depth=9\u001b[0m\n",
      "\u001b[31m[24]#011train-rmse:0.313231#011validation-rmse:0.352636\u001b[0m\n",
      "\u001b[31m[02:56:22] src/tree/updater_prune.cc:74: tree pruning end, 1 roots, 104 extra nodes, 4 pruned nodes, max_depth=9\u001b[0m\n",
      "\u001b[31m[25]#011train-rmse:0.309938#011validation-rmse:0.351694\u001b[0m\n",
      "\u001b[31m[02:56:24] src/tree/updater_prune.cc:74: tree pruning end, 1 roots, 74 extra nodes, 8 pruned nodes, max_depth=9\u001b[0m\n",
      "\u001b[31m[26]#011train-rmse:0.307456#011validation-rmse:0.350875\u001b[0m\n",
      "\u001b[31m[02:56:27] src/tree/updater_prune.cc:74: tree pruning end, 1 roots, 56 extra nodes, 2 pruned nodes, max_depth=9\u001b[0m\n",
      "\u001b[31m[27]#011train-rmse:0.305361#011validation-rmse:0.349663\u001b[0m\n",
      "\u001b[31m[02:56:29] src/tree/updater_prune.cc:74: tree pruning end, 1 roots, 50 extra nodes, 8 pruned nodes, max_depth=9\u001b[0m\n",
      "\u001b[31m[28]#011train-rmse:0.303607#011validation-rmse:0.348763\u001b[0m\n",
      "\u001b[31m[02:56:32] src/tree/updater_prune.cc:74: tree pruning end, 1 roots, 54 extra nodes, 8 pruned nodes, max_depth=9\u001b[0m\n",
      "\u001b[31m[29]#011train-rmse:0.302085#011validation-rmse:0.347956\u001b[0m\n",
      "\u001b[31m[02:56:34] src/tree/updater_prune.cc:74: tree pruning end, 1 roots, 66 extra nodes, 6 pruned nodes, max_depth=9\u001b[0m\n",
      "\u001b[31m[30]#011train-rmse:0.300113#011validation-rmse:0.346538\u001b[0m\n",
      "\u001b[31m[02:56:37] src/tree/updater_prune.cc:74: tree pruning end, 1 roots, 42 extra nodes, 0 pruned nodes, max_depth=9\u001b[0m\n",
      "\u001b[31m[31]#011train-rmse:0.298714#011validation-rmse:0.345362\u001b[0m\n",
      "\u001b[31m[02:56:39] src/tree/updater_prune.cc:74: tree pruning end, 1 roots, 84 extra nodes, 6 pruned nodes, max_depth=9\u001b[0m\n",
      "\u001b[31m[32]#011train-rmse:0.296527#011validation-rmse:0.344698\u001b[0m\n",
      "\u001b[31m[02:56:41] src/tree/updater_prune.cc:74: tree pruning end, 1 roots, 86 extra nodes, 0 pruned nodes, max_depth=9\u001b[0m\n",
      "\u001b[31m[33]#011train-rmse:0.29388#011validation-rmse:0.343981\u001b[0m\n",
      "\u001b[31m[02:56:44] src/tree/updater_prune.cc:74: tree pruning end, 1 roots, 32 extra nodes, 0 pruned nodes, max_depth=9\u001b[0m\n",
      "\u001b[31m[34]#011train-rmse:0.292437#011validation-rmse:0.343253\u001b[0m\n",
      "\u001b[31m[02:56:46] src/tree/updater_prune.cc:74: tree pruning end, 1 roots, 58 extra nodes, 2 pruned nodes, max_depth=9\u001b[0m\n",
      "\u001b[31m[35]#011train-rmse:0.290445#011validation-rmse:0.342041\u001b[0m\n",
      "\u001b[31m[02:56:49] src/tree/updater_prune.cc:74: tree pruning end, 1 roots, 46 extra nodes, 2 pruned nodes, max_depth=9\u001b[0m\n",
      "\u001b[31m[36]#011train-rmse:0.288884#011validation-rmse:0.340894\u001b[0m\n",
      "\u001b[31m[02:56:51] src/tree/updater_prune.cc:74: tree pruning end, 1 roots, 64 extra nodes, 2 pruned nodes, max_depth=9\u001b[0m\n",
      "\u001b[31m[37]#011train-rmse:0.286857#011validation-rmse:0.340061\u001b[0m\n",
      "\u001b[31m[02:56:54] src/tree/updater_prune.cc:74: tree pruning end, 1 roots, 98 extra nodes, 8 pruned nodes, max_depth=9\u001b[0m\n",
      "\u001b[31m[38]#011train-rmse:0.28427#011validation-rmse:0.338944\u001b[0m\n",
      "\u001b[31m[02:56:56] src/tree/updater_prune.cc:74: tree pruning end, 1 roots, 54 extra nodes, 4 pruned nodes, max_depth=9\u001b[0m\n",
      "\u001b[31m[39]#011train-rmse:0.282682#011validation-rmse:0.33826\u001b[0m\n",
      "\u001b[31m[02:56:59] src/tree/updater_prune.cc:74: tree pruning end, 1 roots, 48 extra nodes, 2 pruned nodes, max_depth=9\u001b[0m\n",
      "\u001b[31m[40]#011train-rmse:0.281527#011validation-rmse:0.337556\u001b[0m\n",
      "\u001b[31m[02:57:01] src/tree/updater_prune.cc:74: tree pruning end, 1 roots, 58 extra nodes, 0 pruned nodes, max_depth=9\u001b[0m\n",
      "\u001b[31m[41]#011train-rmse:0.279876#011validation-rmse:0.336747\u001b[0m\n",
      "\u001b[31m[02:57:04] src/tree/updater_prune.cc:74: tree pruning end, 1 roots, 66 extra nodes, 2 pruned nodes, max_depth=9\u001b[0m\n",
      "\u001b[31m[42]#011train-rmse:0.27811#011validation-rmse:0.335896\u001b[0m\n",
      "\u001b[31m[02:57:06] src/tree/updater_prune.cc:74: tree pruning end, 1 roots, 60 extra nodes, 4 pruned nodes, max_depth=9\u001b[0m\n",
      "\u001b[31m[43]#011train-rmse:0.276768#011validation-rmse:0.335613\u001b[0m\n",
      "\u001b[31m[02:57:09] src/tree/updater_prune.cc:74: tree pruning end, 1 roots, 76 extra nodes, 2 pruned nodes, max_depth=9\u001b[0m\n",
      "\u001b[31m[44]#011train-rmse:0.275197#011validation-rmse:0.335245\u001b[0m\n",
      "\u001b[31m[02:57:11] src/tree/updater_prune.cc:74: tree pruning end, 1 roots, 56 extra nodes, 4 pruned nodes, max_depth=9\u001b[0m\n",
      "\u001b[31m[45]#011train-rmse:0.273332#011validation-rmse:0.334115\u001b[0m\n",
      "\u001b[31m[02:57:13] src/tree/updater_prune.cc:74: tree pruning end, 1 roots, 60 extra nodes, 2 pruned nodes, max_depth=9\u001b[0m\n",
      "\u001b[31m[46]#011train-rmse:0.271731#011validation-rmse:0.333618\u001b[0m\n",
      "\u001b[31m[02:57:16] src/tree/updater_prune.cc:74: tree pruning end, 1 roots, 46 extra nodes, 6 pruned nodes, max_depth=9\u001b[0m\n",
      "\u001b[31m[47]#011train-rmse:0.270379#011validation-rmse:0.333059\u001b[0m\n",
      "\u001b[31m[02:57:18] src/tree/updater_prune.cc:74: tree pruning end, 1 roots, 46 extra nodes, 0 pruned nodes, max_depth=9\u001b[0m\n",
      "\u001b[31m[48]#011train-rmse:0.269092#011validation-rmse:0.332552\u001b[0m\n",
      "\u001b[31m[02:57:21] src/tree/updater_prune.cc:74: tree pruning end, 1 roots, 58 extra nodes, 4 pruned nodes, max_depth=9\u001b[0m\n",
      "\u001b[31m[49]#011train-rmse:0.267605#011validation-rmse:0.33215\u001b[0m\n",
      "\u001b[31m[02:57:23] src/tree/updater_prune.cc:74: tree pruning end, 1 roots, 46 extra nodes, 4 pruned nodes, max_depth=9\u001b[0m\n",
      "\u001b[31m[50]#011train-rmse:0.266531#011validation-rmse:0.331429\u001b[0m\n",
      "\u001b[31m[02:57:26] src/tree/updater_prune.cc:74: tree pruning end, 1 roots, 60 extra nodes, 0 pruned nodes, max_depth=9\u001b[0m\n",
      "\u001b[31m[51]#011train-rmse:0.265163#011validation-rmse:0.330973\u001b[0m\n",
      "\u001b[31m[02:57:28] src/tree/updater_prune.cc:74: tree pruning end, 1 roots, 64 extra nodes, 8 pruned nodes, max_depth=9\u001b[0m\n",
      "\u001b[31m[52]#011train-rmse:0.263983#011validation-rmse:0.330389\u001b[0m\n",
      "\u001b[31m[02:57:31] src/tree/updater_prune.cc:74: tree pruning end, 1 roots, 24 extra nodes, 0 pruned nodes, max_depth=9\u001b[0m\n",
      "\u001b[31m[53]#011train-rmse:0.263029#011validation-rmse:0.329846\u001b[0m\n",
      "\u001b[31m[02:57:33] src/tree/updater_prune.cc:74: tree pruning end, 1 roots, 34 extra nodes, 2 pruned nodes, max_depth=9\u001b[0m\n",
      "\u001b[31m[54]#011train-rmse:0.262221#011validation-rmse:0.329141\u001b[0m\n",
      "\u001b[31m[02:57:36] src/tree/updater_prune.cc:74: tree pruning end, 1 roots, 42 extra nodes, 4 pruned nodes, max_depth=9\u001b[0m\n",
      "\u001b[31m[55]#011train-rmse:0.261183#011validation-rmse:0.328883\u001b[0m\n",
      "\u001b[31m[02:57:38] src/tree/updater_prune.cc:74: tree pruning end, 1 roots, 38 extra nodes, 6 pruned nodes, max_depth=9\u001b[0m\n",
      "\u001b[31m[56]#011train-rmse:0.260086#011validation-rmse:0.328439\u001b[0m\n",
      "\u001b[31m[02:57:41] src/tree/updater_prune.cc:74: tree pruning end, 1 roots, 30 extra nodes, 0 pruned nodes, max_depth=9\u001b[0m\n",
      "\u001b[31m[57]#011train-rmse:0.259157#011validation-rmse:0.327944\u001b[0m\n",
      "\u001b[31m[02:57:43] src/tree/updater_prune.cc:74: tree pruning end, 1 roots, 72 extra nodes, 10 pruned nodes, max_depth=9\u001b[0m\n",
      "\u001b[31m[58]#011train-rmse:0.257605#011validation-rmse:0.327596\u001b[0m\n",
      "\u001b[31m[02:57:46] src/tree/updater_prune.cc:74: tree pruning end, 1 roots, 44 extra nodes, 4 pruned nodes, max_depth=9\u001b[0m\n",
      "\u001b[31m[59]#011train-rmse:0.256512#011validation-rmse:0.326865\u001b[0m\n",
      "\u001b[31m[02:57:48] src/tree/updater_prune.cc:74: tree pruning end, 1 roots, 28 extra nodes, 0 pruned nodes, max_depth=9\u001b[0m\n",
      "\u001b[31m[60]#011train-rmse:0.255626#011validation-rmse:0.326369\u001b[0m\n",
      "\u001b[31m[02:57:51] src/tree/updater_prune.cc:74: tree pruning end, 1 roots, 34 extra nodes, 4 pruned nodes, max_depth=9\u001b[0m\n",
      "\u001b[31m[61]#011train-rmse:0.254742#011validation-rmse:0.325929\u001b[0m\n",
      "\u001b[31m[02:57:53] src/tree/updater_prune.cc:74: tree pruning end, 1 roots, 44 extra nodes, 0 pruned nodes, max_depth=9\u001b[0m\n",
      "\u001b[31m[62]#011train-rmse:0.253908#011validation-rmse:0.325834\u001b[0m\n",
      "\u001b[31m[02:57:56] src/tree/updater_prune.cc:74: tree pruning end, 1 roots, 60 extra nodes, 4 pruned nodes, max_depth=9\u001b[0m\n",
      "\u001b[31m[63]#011train-rmse:0.25279#011validation-rmse:0.325704\u001b[0m\n",
      "\u001b[31m[02:57:58] src/tree/updater_prune.cc:74: tree pruning end, 1 roots, 68 extra nodes, 4 pruned nodes, max_depth=9\u001b[0m\n",
      "\u001b[31m[64]#011train-rmse:0.251601#011validation-rmse:0.325328\u001b[0m\n",
      "\u001b[31m[02:58:00] src/tree/updater_prune.cc:74: tree pruning end, 1 roots, 44 extra nodes, 2 pruned nodes, max_depth=9\u001b[0m\n",
      "\u001b[31m[65]#011train-rmse:0.25059#011validation-rmse:0.32518\u001b[0m\n",
      "\u001b[31m[02:58:03] src/tree/updater_prune.cc:74: tree pruning end, 1 roots, 52 extra nodes, 4 pruned nodes, max_depth=9\u001b[0m\n",
      "\u001b[31m[66]#011train-rmse:0.249567#011validation-rmse:0.324837\u001b[0m\n",
      "\u001b[31m[02:58:05] src/tree/updater_prune.cc:74: tree pruning end, 1 roots, 32 extra nodes, 0 pruned nodes, max_depth=9\u001b[0m\n",
      "\u001b[31m[67]#011train-rmse:0.248798#011validation-rmse:0.324256\u001b[0m\n",
      "\u001b[31m[02:58:08] src/tree/updater_prune.cc:74: tree pruning end, 1 roots, 48 extra nodes, 4 pruned nodes, max_depth=9\u001b[0m\n",
      "\u001b[31m[68]#011train-rmse:0.24793#011validation-rmse:0.323866\u001b[0m\n",
      "\u001b[31m[02:58:10] src/tree/updater_prune.cc:74: tree pruning end, 1 roots, 54 extra nodes, 2 pruned nodes, max_depth=9\u001b[0m\n",
      "\u001b[31m[69]#011train-rmse:0.24689#011validation-rmse:0.323966\u001b[0m\n",
      "\u001b[31m[02:58:13] src/tree/updater_prune.cc:74: tree pruning end, 1 roots, 62 extra nodes, 4 pruned nodes, max_depth=9\u001b[0m\n",
      "\u001b[31m[70]#011train-rmse:0.245544#011validation-rmse:0.323499\u001b[0m\n",
      "\u001b[31m[02:58:15] src/tree/updater_prune.cc:74: tree pruning end, 1 roots, 56 extra nodes, 4 pruned nodes, max_depth=9\u001b[0m\n",
      "\u001b[31m[71]#011train-rmse:0.244403#011validation-rmse:0.323353\u001b[0m\n",
      "\u001b[31m[02:58:18] src/tree/updater_prune.cc:74: tree pruning end, 1 roots, 46 extra nodes, 4 pruned nodes, max_depth=9\u001b[0m\n",
      "\u001b[31m[72]#011train-rmse:0.243262#011validation-rmse:0.322543\u001b[0m\n",
      "\u001b[31m[02:58:20] src/tree/updater_prune.cc:74: tree pruning end, 1 roots, 30 extra nodes, 0 pruned nodes, max_depth=9\u001b[0m\n",
      "\u001b[31m[73]#011train-rmse:0.242589#011validation-rmse:0.322344\u001b[0m\n",
      "\u001b[31m[02:58:23] src/tree/updater_prune.cc:74: tree pruning end, 1 roots, 58 extra nodes, 2 pruned nodes, max_depth=9\u001b[0m\n",
      "\u001b[31m[74]#011train-rmse:0.241383#011validation-rmse:0.322309\u001b[0m\n",
      "\u001b[31m[02:58:25] src/tree/updater_prune.cc:74: tree pruning end, 1 roots, 38 extra nodes, 0 pruned nodes, max_depth=9\u001b[0m\n",
      "\u001b[31m[75]#011train-rmse:0.240586#011validation-rmse:0.322407\u001b[0m\n",
      "\u001b[31m[02:58:28] src/tree/updater_prune.cc:74: tree pruning end, 1 roots, 58 extra nodes, 2 pruned nodes, max_depth=9\u001b[0m\n",
      "\u001b[31m[76]#011train-rmse:0.239384#011validation-rmse:0.32193\u001b[0m\n",
      "\u001b[31m[02:58:30] src/tree/updater_prune.cc:74: tree pruning end, 1 roots, 46 extra nodes, 4 pruned nodes, max_depth=9\u001b[0m\n",
      "\u001b[31m[77]#011train-rmse:0.238196#011validation-rmse:0.321618\u001b[0m\n",
      "\u001b[31m[02:58:33] src/tree/updater_prune.cc:74: tree pruning end, 1 roots, 32 extra nodes, 10 pruned nodes, max_depth=9\u001b[0m\n",
      "\u001b[31m[78]#011train-rmse:0.237598#011validation-rmse:0.321587\u001b[0m\n",
      "\u001b[31m[02:58:35] src/tree/updater_prune.cc:74: tree pruning end, 1 roots, 34 extra nodes, 0 pruned nodes, max_depth=9\u001b[0m\n",
      "\u001b[31m[79]#011train-rmse:0.236824#011validation-rmse:0.32083\u001b[0m\n",
      "\u001b[31m[02:58:38] src/tree/updater_prune.cc:74: tree pruning end, 1 roots, 64 extra nodes, 2 pruned nodes, max_depth=9\u001b[0m\n",
      "\u001b[31m[80]#011train-rmse:0.235486#011validation-rmse:0.320479\u001b[0m\n",
      "\u001b[31m[02:58:40] src/tree/updater_prune.cc:74: tree pruning end, 1 roots, 48 extra nodes, 4 pruned nodes, max_depth=9\u001b[0m\n",
      "\u001b[31m[81]#011train-rmse:0.234563#011validation-rmse:0.32014\u001b[0m\n",
      "\u001b[31m[02:58:43] src/tree/updater_prune.cc:74: tree pruning end, 1 roots, 66 extra nodes, 0 pruned nodes, max_depth=9\u001b[0m\n",
      "\u001b[31m[82]#011train-rmse:0.233484#011validation-rmse:0.320052\u001b[0m\n",
      "\u001b[31m[02:58:45] src/tree/updater_prune.cc:74: tree pruning end, 1 roots, 58 extra nodes, 8 pruned nodes, max_depth=9\u001b[0m\n",
      "\u001b[31m[83]#011train-rmse:0.232509#011validation-rmse:0.319787\u001b[0m\n",
      "\u001b[31m[02:58:48] src/tree/updater_prune.cc:74: tree pruning end, 1 roots, 54 extra nodes, 2 pruned nodes, max_depth=9\u001b[0m\n",
      "\u001b[31m[84]#011train-rmse:0.23137#011validation-rmse:0.319467\u001b[0m\n",
      "\u001b[31m[02:58:50] src/tree/updater_prune.cc:74: tree pruning end, 1 roots, 48 extra nodes, 0 pruned nodes, max_depth=9\u001b[0m\n",
      "\u001b[31m[85]#011train-rmse:0.230555#011validation-rmse:0.319495\u001b[0m\n",
      "\u001b[31m[02:58:52] src/tree/updater_prune.cc:74: tree pruning end, 1 roots, 50 extra nodes, 0 pruned nodes, max_depth=9\u001b[0m\n",
      "\u001b[31m[86]#011train-rmse:0.22964#011validation-rmse:0.319323\u001b[0m\n",
      "\u001b[31m[02:58:55] src/tree/updater_prune.cc:74: tree pruning end, 1 roots, 40 extra nodes, 0 pruned nodes, max_depth=9\u001b[0m\n",
      "\u001b[31m[87]#011train-rmse:0.228901#011validation-rmse:0.318846\u001b[0m\n",
      "\u001b[31m[02:58:57] src/tree/updater_prune.cc:74: tree pruning end, 1 roots, 56 extra nodes, 4 pruned nodes, max_depth=9\u001b[0m\n",
      "\u001b[31m[88]#011train-rmse:0.227937#011validation-rmse:0.318595\u001b[0m\n",
      "\u001b[31m[02:59:00] src/tree/updater_prune.cc:74: tree pruning end, 1 roots, 28 extra nodes, 0 pruned nodes, max_depth=9\u001b[0m\n",
      "\u001b[31m[89]#011train-rmse:0.227519#011validation-rmse:0.318274\u001b[0m\n",
      "\u001b[31m[02:59:02] src/tree/updater_prune.cc:74: tree pruning end, 1 roots, 52 extra nodes, 0 pruned nodes, max_depth=9\u001b[0m\n",
      "\u001b[31m[90]#011train-rmse:0.22642#011validation-rmse:0.318043\u001b[0m\n",
      "\u001b[31m[02:59:05] src/tree/updater_prune.cc:74: tree pruning end, 1 roots, 34 extra nodes, 4 pruned nodes, max_depth=9\u001b[0m\n",
      "\u001b[31m[91]#011train-rmse:0.225829#011validation-rmse:0.317657\u001b[0m\n",
      "\u001b[31m[02:59:07] src/tree/updater_prune.cc:74: tree pruning end, 1 roots, 30 extra nodes, 2 pruned nodes, max_depth=9\u001b[0m\n",
      "\u001b[31m[92]#011train-rmse:0.225258#011validation-rmse:0.317286\u001b[0m\n",
      "\u001b[31m[02:59:10] src/tree/updater_prune.cc:74: tree pruning end, 1 roots, 44 extra nodes, 4 pruned nodes, max_depth=9\u001b[0m\n",
      "\u001b[31m[93]#011train-rmse:0.224549#011validation-rmse:0.316955\u001b[0m\n",
      "\u001b[31m[02:59:12] src/tree/updater_prune.cc:74: tree pruning end, 1 roots, 46 extra nodes, 4 pruned nodes, max_depth=9\u001b[0m\n",
      "\u001b[31m[94]#011train-rmse:0.223896#011validation-rmse:0.316542\u001b[0m\n",
      "\u001b[31m[02:59:15] src/tree/updater_prune.cc:74: tree pruning end, 1 roots, 24 extra nodes, 2 pruned nodes, max_depth=9\u001b[0m\n",
      "\u001b[31m[95]#011train-rmse:0.223418#011validation-rmse:0.316389\u001b[0m\n",
      "\u001b[31m[02:59:17] src/tree/updater_prune.cc:74: tree pruning end, 1 roots, 34 extra nodes, 2 pruned nodes, max_depth=9\u001b[0m\n",
      "\u001b[31m[96]#011train-rmse:0.222876#011validation-rmse:0.316158\u001b[0m\n",
      "\u001b[31m[02:59:20] src/tree/updater_prune.cc:74: tree pruning end, 1 roots, 32 extra nodes, 2 pruned nodes, max_depth=9\u001b[0m\n",
      "\u001b[31m[97]#011train-rmse:0.222334#011validation-rmse:0.316113\u001b[0m\n",
      "\u001b[31m[02:59:22] src/tree/updater_prune.cc:74: tree pruning end, 1 roots, 54 extra nodes, 0 pruned nodes, max_depth=9\u001b[0m\n",
      "\u001b[31m[98]#011train-rmse:0.221491#011validation-rmse:0.316073\u001b[0m\n",
      "\u001b[31m[02:59:25] src/tree/updater_prune.cc:74: tree pruning end, 1 roots, 62 extra nodes, 2 pruned nodes, max_depth=9\u001b[0m\n",
      "\u001b[31m[99]#011train-rmse:0.220276#011validation-rmse:0.315888\u001b[0m\n",
      "\u001b[31m[02:59:27] src/tree/updater_prune.cc:74: tree pruning end, 1 roots, 64 extra nodes, 2 pruned nodes, max_depth=9\u001b[0m\n",
      "\u001b[31m[100]#011train-rmse:0.21901#011validation-rmse:0.315633\u001b[0m\n",
      "\u001b[31m[02:59:29] src/tree/updater_prune.cc:74: tree pruning end, 1 roots, 30 extra nodes, 0 pruned nodes, max_depth=9\u001b[0m\n",
      "\u001b[31m[101]#011train-rmse:0.218438#011validation-rmse:0.315662\u001b[0m\n",
      "\u001b[31m[02:59:32] src/tree/updater_prune.cc:74: tree pruning end, 1 roots, 62 extra nodes, 10 pruned nodes, max_depth=9\u001b[0m\n",
      "\u001b[31m[102]#011train-rmse:0.217608#011validation-rmse:0.315724\u001b[0m\n",
      "\u001b[31m[02:59:34] src/tree/updater_prune.cc:74: tree pruning end, 1 roots, 24 extra nodes, 2 pruned nodes, max_depth=9\u001b[0m\n",
      "\u001b[31m[103]#011train-rmse:0.217241#011validation-rmse:0.315336\u001b[0m\n",
      "\u001b[31m[02:59:37] src/tree/updater_prune.cc:74: tree pruning end, 1 roots, 42 extra nodes, 4 pruned nodes, max_depth=9\u001b[0m\n",
      "\u001b[31m[104]#011train-rmse:0.216356#011validation-rmse:0.315316\u001b[0m\n",
      "\u001b[31m[02:59:39] src/tree/updater_prune.cc:74: tree pruning end, 1 roots, 30 extra nodes, 0 pruned nodes, max_depth=9\u001b[0m\n",
      "\u001b[31m[105]#011train-rmse:0.215976#011validation-rmse:0.315051\u001b[0m\n",
      "\u001b[31m[02:59:42] src/tree/updater_prune.cc:74: tree pruning end, 1 roots, 26 extra nodes, 4 pruned nodes, max_depth=9\u001b[0m\n",
      "\u001b[31m[106]#011train-rmse:0.21554#011validation-rmse:0.314996\u001b[0m\n",
      "\u001b[31m[02:59:44] src/tree/updater_prune.cc:74: tree pruning end, 1 roots, 34 extra nodes, 0 pruned nodes, max_depth=9\u001b[0m\n",
      "\u001b[31m[107]#011train-rmse:0.215005#011validation-rmse:0.314881\u001b[0m\n",
      "\u001b[31m[02:59:47] src/tree/updater_prune.cc:74: tree pruning end, 1 roots, 54 extra nodes, 2 pruned nodes, max_depth=9\u001b[0m\n",
      "\u001b[31m[108]#011train-rmse:0.214097#011validation-rmse:0.314875\u001b[0m\n",
      "\u001b[31m[02:59:49] src/tree/updater_prune.cc:74: tree pruning end, 1 roots, 42 extra nodes, 4 pruned nodes, max_depth=9\u001b[0m\n",
      "\u001b[31m[109]#011train-rmse:0.213325#011validation-rmse:0.314848\u001b[0m\n",
      "\u001b[31m[02:59:52] src/tree/updater_prune.cc:74: tree pruning end, 1 roots, 42 extra nodes, 4 pruned nodes, max_depth=9\u001b[0m\n",
      "\u001b[31m[110]#011train-rmse:0.212549#011validation-rmse:0.314858\u001b[0m\n",
      "\u001b[31m[02:59:54] src/tree/updater_prune.cc:74: tree pruning end, 1 roots, 44 extra nodes, 0 pruned nodes, max_depth=9\u001b[0m\n",
      "\u001b[31m[111]#011train-rmse:0.21172#011validation-rmse:0.315106\u001b[0m\n",
      "\u001b[31m[02:59:57] src/tree/updater_prune.cc:74: tree pruning end, 1 roots, 30 extra nodes, 2 pruned nodes, max_depth=9\u001b[0m\n",
      "\u001b[31m[112]#011train-rmse:0.21122#011validation-rmse:0.315063\u001b[0m\n",
      "\u001b[31m[02:59:59] src/tree/updater_prune.cc:74: tree pruning end, 1 roots, 40 extra nodes, 2 pruned nodes, max_depth=9\u001b[0m\n",
      "\u001b[31m[113]#011train-rmse:0.210588#011validation-rmse:0.31515\u001b[0m\n",
      "\u001b[31m[03:00:01] src/tree/updater_prune.cc:74: tree pruning end, 1 roots, 26 extra nodes, 0 pruned nodes, max_depth=9\u001b[0m\n",
      "\u001b[31m[114]#011train-rmse:0.210242#011validation-rmse:0.314969\u001b[0m\n",
      "\u001b[31m[03:00:04] src/tree/updater_prune.cc:74: tree pruning end, 1 roots, 46 extra nodes, 2 pruned nodes, max_depth=9\u001b[0m\n",
      "\u001b[31m[115]#011train-rmse:0.209634#011validation-rmse:0.315122\u001b[0m\n",
      "\u001b[31m[03:00:06] src/tree/updater_prune.cc:74: tree pruning end, 1 roots, 42 extra nodes, 4 pruned nodes, max_depth=9\u001b[0m\n",
      "\u001b[31m[116]#011train-rmse:0.208822#011validation-rmse:0.315213\u001b[0m\n",
      "\u001b[31m[03:00:09] src/tree/updater_prune.cc:74: tree pruning end, 1 roots, 32 extra nodes, 4 pruned nodes, max_depth=9\u001b[0m\n",
      "\u001b[31m[117]#011train-rmse:0.208329#011validation-rmse:0.315007\u001b[0m\n",
      "\u001b[31m[03:00:11] src/tree/updater_prune.cc:74: tree pruning end, 1 roots, 30 extra nodes, 2 pruned nodes, max_depth=9\u001b[0m\n",
      "\u001b[31m[118]#011train-rmse:0.207834#011validation-rmse:0.314832\u001b[0m\n",
      "\u001b[31m[03:00:14] src/tree/updater_prune.cc:74: tree pruning end, 1 roots, 34 extra nodes, 2 pruned nodes, max_depth=9\u001b[0m\n",
      "\u001b[31m[119]#011train-rmse:0.207255#011validation-rmse:0.31487\u001b[0m\n",
      "\u001b[31m[03:00:16] src/tree/updater_prune.cc:74: tree pruning end, 1 roots, 40 extra nodes, 0 pruned nodes, max_depth=9\u001b[0m\n",
      "\u001b[31m[120]#011train-rmse:0.206704#011validation-rmse:0.314769\u001b[0m\n",
      "\u001b[31m[03:00:19] src/tree/updater_prune.cc:74: tree pruning end, 1 roots, 44 extra nodes, 0 pruned nodes, max_depth=9\u001b[0m\n",
      "\u001b[31m[121]#011train-rmse:0.205971#011validation-rmse:0.314915\u001b[0m\n",
      "\u001b[31m[03:00:21] src/tree/updater_prune.cc:74: tree pruning end, 1 roots, 28 extra nodes, 0 pruned nodes, max_depth=9\u001b[0m\n",
      "\u001b[31m[122]#011train-rmse:0.205551#011validation-rmse:0.314997\u001b[0m\n",
      "\u001b[31m[03:00:24] src/tree/updater_prune.cc:74: tree pruning end, 1 roots, 38 extra nodes, 0 pruned nodes, max_depth=9\u001b[0m\n",
      "\u001b[31m[123]#011train-rmse:0.205069#011validation-rmse:0.314945\u001b[0m\n",
      "\u001b[31m[03:00:26] src/tree/updater_prune.cc:74: tree pruning end, 1 roots, 30 extra nodes, 2 pruned nodes, max_depth=9\u001b[0m\n",
      "\u001b[31m[124]#011train-rmse:0.204669#011validation-rmse:0.314711\u001b[0m\n",
      "\u001b[31m[03:00:29] src/tree/updater_prune.cc:74: tree pruning end, 1 roots, 50 extra nodes, 2 pruned nodes, max_depth=9\u001b[0m\n",
      "\u001b[31m[125]#011train-rmse:0.203846#011validation-rmse:0.314816\u001b[0m\n",
      "\u001b[31m[03:00:31] src/tree/updater_prune.cc:74: tree pruning end, 1 roots, 36 extra nodes, 0 pruned nodes, max_depth=9\u001b[0m\n",
      "\u001b[31m[126]#011train-rmse:0.20329#011validation-rmse:0.31489\u001b[0m\n",
      "\u001b[31m[03:00:34] src/tree/updater_prune.cc:74: tree pruning end, 1 roots, 34 extra nodes, 2 pruned nodes, max_depth=9\u001b[0m\n",
      "\u001b[31m[127]#011train-rmse:0.202785#011validation-rmse:0.314705\u001b[0m\n",
      "\u001b[31m[03:00:36] src/tree/updater_prune.cc:74: tree pruning end, 1 roots, 50 extra nodes, 6 pruned nodes, max_depth=9\u001b[0m\n",
      "\u001b[31m[128]#011train-rmse:0.202127#011validation-rmse:0.314817\u001b[0m\n",
      "\u001b[31m[03:00:39] src/tree/updater_prune.cc:74: tree pruning end, 1 roots, 62 extra nodes, 0 pruned nodes, max_depth=9\u001b[0m\n",
      "\u001b[31m[129]#011train-rmse:0.201379#011validation-rmse:0.314704\u001b[0m\n",
      "\u001b[31m[03:00:41] src/tree/updater_prune.cc:74: tree pruning end, 1 roots, 36 extra nodes, 8 pruned nodes, max_depth=9\u001b[0m\n",
      "\u001b[31m[130]#011train-rmse:0.200827#011validation-rmse:0.314665\u001b[0m\n",
      "\u001b[31m[03:00:43] src/tree/updater_prune.cc:74: tree pruning end, 1 roots, 48 extra nodes, 4 pruned nodes, max_depth=9\u001b[0m\n",
      "\u001b[31m[131]#011train-rmse:0.200053#011validation-rmse:0.314776\u001b[0m\n",
      "\u001b[31m[03:00:46] src/tree/updater_prune.cc:74: tree pruning end, 1 roots, 62 extra nodes, 6 pruned nodes, max_depth=9\u001b[0m\n",
      "\u001b[31m[132]#011train-rmse:0.199193#011validation-rmse:0.314512\u001b[0m\n",
      "\u001b[31m[03:00:48] src/tree/updater_prune.cc:74: tree pruning end, 1 roots, 56 extra nodes, 2 pruned nodes, max_depth=9\u001b[0m\n",
      "\u001b[31m[133]#011train-rmse:0.19848#011validation-rmse:0.314302\u001b[0m\n",
      "\u001b[31m[03:00:51] src/tree/updater_prune.cc:74: tree pruning end, 1 roots, 46 extra nodes, 2 pruned nodes, max_depth=9\u001b[0m\n",
      "\u001b[31m[134]#011train-rmse:0.1977#011validation-rmse:0.314397\u001b[0m\n",
      "\u001b[31m[03:00:53] src/tree/updater_prune.cc:74: tree pruning end, 1 roots, 38 extra nodes, 0 pruned nodes, max_depth=9\u001b[0m\n",
      "\u001b[31m[135]#011train-rmse:0.197141#011validation-rmse:0.31434\u001b[0m\n",
      "\u001b[31m[03:00:56] src/tree/updater_prune.cc:74: tree pruning end, 1 roots, 62 extra nodes, 2 pruned nodes, max_depth=9\u001b[0m\n",
      "\u001b[31m[136]#011train-rmse:0.196124#011validation-rmse:0.314088\u001b[0m\n",
      "\u001b[31m[03:00:58] src/tree/updater_prune.cc:74: tree pruning end, 1 roots, 34 extra nodes, 0 pruned nodes, max_depth=9\u001b[0m\n",
      "\u001b[31m[137]#011train-rmse:0.195651#011validation-rmse:0.313863\u001b[0m\n",
      "\u001b[31m[03:01:01] src/tree/updater_prune.cc:74: tree pruning end, 1 roots, 44 extra nodes, 0 pruned nodes, max_depth=9\u001b[0m\n",
      "\u001b[31m[138]#011train-rmse:0.194919#011validation-rmse:0.313685\u001b[0m\n",
      "\u001b[31m[03:01:03] src/tree/updater_prune.cc:74: tree pruning end, 1 roots, 58 extra nodes, 0 pruned nodes, max_depth=9\u001b[0m\n",
      "\u001b[31m[139]#011train-rmse:0.194191#011validation-rmse:0.313877\u001b[0m\n",
      "\u001b[31m[03:01:06] src/tree/updater_prune.cc:74: tree pruning end, 1 roots, 28 extra nodes, 0 pruned nodes, max_depth=9\u001b[0m\n",
      "\u001b[31m[140]#011train-rmse:0.193867#011validation-rmse:0.313735\u001b[0m\n",
      "\u001b[31m[03:01:08] src/tree/updater_prune.cc:74: tree pruning end, 1 roots, 42 extra nodes, 4 pruned nodes, max_depth=9\u001b[0m\n",
      "\u001b[31m[141]#011train-rmse:0.193168#011validation-rmse:0.313743\u001b[0m\n",
      "\u001b[31m[03:01:11] src/tree/updater_prune.cc:74: tree pruning end, 1 roots, 26 extra nodes, 6 pruned nodes, max_depth=9\u001b[0m\n",
      "\u001b[31m[142]#011train-rmse:0.192856#011validation-rmse:0.313562\u001b[0m\n",
      "\u001b[31m[03:01:13] src/tree/updater_prune.cc:74: tree pruning end, 1 roots, 34 extra nodes, 4 pruned nodes, max_depth=9\u001b[0m\n",
      "\u001b[31m[143]#011train-rmse:0.192346#011validation-rmse:0.313457\u001b[0m\n",
      "\u001b[31m[03:01:16] src/tree/updater_prune.cc:74: tree pruning end, 1 roots, 34 extra nodes, 6 pruned nodes, max_depth=9\u001b[0m\n",
      "\u001b[31m[144]#011train-rmse:0.191881#011validation-rmse:0.313453\u001b[0m\n",
      "\u001b[31m[03:01:18] src/tree/updater_prune.cc:74: tree pruning end, 1 roots, 40 extra nodes, 2 pruned nodes, max_depth=9\u001b[0m\n",
      "\u001b[31m[145]#011train-rmse:0.191278#011validation-rmse:0.313506\u001b[0m\n",
      "\u001b[31m[03:01:21] src/tree/updater_prune.cc:74: tree pruning end, 1 roots, 26 extra nodes, 0 pruned nodes, max_depth=9\u001b[0m\n",
      "\u001b[31m[146]#011train-rmse:0.190992#011validation-rmse:0.313451\u001b[0m\n",
      "\u001b[31m[03:01:23] src/tree/updater_prune.cc:74: tree pruning end, 1 roots, 40 extra nodes, 2 pruned nodes, max_depth=9\u001b[0m\n",
      "\u001b[31m[147]#011train-rmse:0.190402#011validation-rmse:0.313604\u001b[0m\n",
      "\u001b[31m[03:01:26] src/tree/updater_prune.cc:74: tree pruning end, 1 roots, 22 extra nodes, 0 pruned nodes, max_depth=9\u001b[0m\n",
      "\u001b[31m[148]#011train-rmse:0.190134#011validation-rmse:0.313613\u001b[0m\n",
      "\u001b[31m[03:01:28] src/tree/updater_prune.cc:74: tree pruning end, 1 roots, 46 extra nodes, 0 pruned nodes, max_depth=9\u001b[0m\n",
      "\u001b[31m[149]#011train-rmse:0.189362#011validation-rmse:0.313734\u001b[0m\n",
      "\u001b[31m[03:01:31] src/tree/updater_prune.cc:74: tree pruning end, 1 roots, 44 extra nodes, 2 pruned nodes, max_depth=9\u001b[0m\n",
      "\u001b[31m[150]#011train-rmse:0.1887#011validation-rmse:0.313617\u001b[0m\n",
      "\u001b[31m[03:01:33] src/tree/updater_prune.cc:74: tree pruning end, 1 roots, 40 extra nodes, 2 pruned nodes, max_depth=9\u001b[0m\n",
      "\u001b[31m[151]#011train-rmse:0.188143#011validation-rmse:0.313579\u001b[0m\n",
      "\u001b[31m[03:01:36] src/tree/updater_prune.cc:74: tree pruning end, 1 roots, 30 extra nodes, 2 pruned nodes, max_depth=9\u001b[0m\n",
      "\u001b[31m[152]#011train-rmse:0.187847#011validation-rmse:0.313378\u001b[0m\n",
      "\u001b[31m[03:01:38] src/tree/updater_prune.cc:74: tree pruning end, 1 roots, 38 extra nodes, 0 pruned nodes, max_depth=9\u001b[0m\n",
      "\u001b[31m[153]#011train-rmse:0.187364#011validation-rmse:0.3133\u001b[0m\n",
      "\u001b[31m[03:01:41] src/tree/updater_prune.cc:74: tree pruning end, 1 roots, 36 extra nodes, 4 pruned nodes, max_depth=9\u001b[0m\n",
      "\u001b[31m[154]#011train-rmse:0.186979#011validation-rmse:0.313264\u001b[0m\n",
      "\u001b[31m[03:01:43] src/tree/updater_prune.cc:74: tree pruning end, 1 roots, 30 extra nodes, 0 pruned nodes, max_depth=9\u001b[0m\n",
      "\u001b[31m[155]#011train-rmse:0.186678#011validation-rmse:0.313217\u001b[0m\n",
      "\u001b[31m[03:01:46] src/tree/updater_prune.cc:74: tree pruning end, 1 roots, 34 extra nodes, 2 pruned nodes, max_depth=9\u001b[0m\n",
      "\u001b[31m[156]#011train-rmse:0.186246#011validation-rmse:0.313194\u001b[0m\n",
      "\u001b[31m[03:01:48] src/tree/updater_prune.cc:74: tree pruning end, 1 roots, 40 extra nodes, 0 pruned nodes, max_depth=9\u001b[0m\n",
      "\u001b[31m[157]#011train-rmse:0.185618#011validation-rmse:0.31303\u001b[0m\n",
      "\u001b[31m[03:01:51] src/tree/updater_prune.cc:74: tree pruning end, 1 roots, 42 extra nodes, 4 pruned nodes, max_depth=9\u001b[0m\n",
      "\u001b[31m[158]#011train-rmse:0.185026#011validation-rmse:0.31309\u001b[0m\n",
      "\u001b[31m[03:01:53] src/tree/updater_prune.cc:74: tree pruning end, 1 roots, 44 extra nodes, 4 pruned nodes, max_depth=9\u001b[0m\n",
      "\u001b[31m[159]#011train-rmse:0.184429#011validation-rmse:0.313273\u001b[0m\n",
      "\u001b[31m[03:01:56] src/tree/updater_prune.cc:74: tree pruning end, 1 roots, 36 extra nodes, 4 pruned nodes, max_depth=9\u001b[0m\n",
      "\u001b[31m[160]#011train-rmse:0.183917#011validation-rmse:0.31326\u001b[0m\n",
      "\u001b[31m[03:01:58] src/tree/updater_prune.cc:74: tree pruning end, 1 roots, 28 extra nodes, 4 pruned nodes, max_depth=9\u001b[0m\n",
      "\u001b[31m[161]#011train-rmse:0.183536#011validation-rmse:0.313392\u001b[0m\n",
      "\u001b[31m[03:02:00] src/tree/updater_prune.cc:74: tree pruning end, 1 roots, 36 extra nodes, 0 pruned nodes, max_depth=9\u001b[0m\n",
      "\u001b[31m[162]#011train-rmse:0.183202#011validation-rmse:0.313233\u001b[0m\n",
      "\u001b[31m[03:02:03] src/tree/updater_prune.cc:74: tree pruning end, 1 roots, 30 extra nodes, 6 pruned nodes, max_depth=9\u001b[0m\n",
      "\u001b[31m[163]#011train-rmse:0.182841#011validation-rmse:0.313266\u001b[0m\n",
      "\u001b[31m[03:02:05] src/tree/updater_prune.cc:74: tree pruning end, 1 roots, 52 extra nodes, 4 pruned nodes, max_depth=9\u001b[0m\n",
      "\u001b[31m[164]#011train-rmse:0.18217#011validation-rmse:0.313233\u001b[0m\n",
      "\u001b[31m[03:02:08] src/tree/updater_prune.cc:74: tree pruning end, 1 roots, 32 extra nodes, 4 pruned nodes, max_depth=9\u001b[0m\n",
      "\u001b[31m[165]#011train-rmse:0.181716#011validation-rmse:0.313345\u001b[0m\n",
      "\u001b[31m[03:02:10] src/tree/updater_prune.cc:74: tree pruning end, 1 roots, 28 extra nodes, 4 pruned nodes, max_depth=9\u001b[0m\n",
      "\u001b[31m[166]#011train-rmse:0.181334#011validation-rmse:0.313217\u001b[0m\n",
      "\u001b[31m[03:02:13] src/tree/updater_prune.cc:74: tree pruning end, 1 roots, 26 extra nodes, 2 pruned nodes, max_depth=9\u001b[0m\n",
      "\u001b[31m[167]#011train-rmse:0.181131#011validation-rmse:0.313308\u001b[0m\n",
      "\u001b[31mStopping. Best iteration:\u001b[0m\n",
      "\u001b[31m[157]#011train-rmse:0.185618#011validation-rmse:0.31303\n",
      "\u001b[0m\n",
      "Billable seconds: 441\n"
     ]
    }
   ],
   "source": [
    "# TODO: Create a new estimator object attached to the best training job found during hyperparameter tuning\n",
    "\n",
    "xgb_attached = sagemaker.estimator.Estimator.attach(xgb_hyperparameter_tuner.best_training_job())"
   ]
  },
  {
   "cell_type": "markdown",
   "metadata": {},
   "source": [
    "Now that we have an estimator object attached to the correct training job, we can proceed as we normally would and create a transformer object."
   ]
  },
  {
   "cell_type": "code",
   "execution_count": 18,
   "metadata": {
    "lines_to_next_cell": 2
   },
   "outputs": [],
   "source": [
    "# TODO: Create a transformer object from the attached estimator. Using an instance count of 1 and an instance type of ml.m4.xlarge\n",
    "#       should be more than enough.\n",
    "\n",
    "xgb_transformer = xgb_attached.transformer(instance_count=1, instance_type=\"ml.m4.xlarge\")"
   ]
  },
  {
   "cell_type": "markdown",
   "metadata": {},
   "source": [
    "Next we actually perform the transform job. When doing so we need to make sure to specify the type of data we are sending so that it is serialized correctly in the background. In our case we are providing our model with csv data so we specify `text/csv`. Also, if the test data that we have provided is too large to process all at once then we need to specify how the data file should be split up. Since each line is a single entry in our data set we tell SageMaker that it can split the input on each line."
   ]
  },
  {
   "cell_type": "code",
   "execution_count": 53,
   "metadata": {
    "lines_to_next_cell": 2
   },
   "outputs": [],
   "source": [
    "# TODO: Start the transform job. Make sure to specify the content type and the split type of the test data.\n",
    "\n",
    "xgb_transformer.transform(test_location, content_type=\"text/csv\", split_type=\"Line\")"
   ]
  },
  {
   "cell_type": "markdown",
   "metadata": {},
   "source": [
    "Currently the transform job is running but it is doing so in the background. Since we wish to wait until the transform job is done and we would like a bit of feedback we can run the `wait()` method."
   ]
  },
  {
   "cell_type": "code",
   "execution_count": 54,
   "metadata": {},
   "outputs": [
    {
     "name": "stdout",
     "output_type": "stream",
     "text": [
      "..............................................!\n"
     ]
    }
   ],
   "source": [
    "xgb_transformer.wait()"
   ]
  },
  {
   "cell_type": "markdown",
   "metadata": {},
   "source": [
    "Now the transform job has executed and the result, the estimated sentiment of each review, has been saved on S3. Since we would rather work on this file locally we can perform a bit of notebook magic to copy the file to the `data_dir`."
   ]
  },
  {
   "cell_type": "code",
   "execution_count": 55,
   "metadata": {},
   "outputs": [
    {
     "name": "stdout",
     "output_type": "stream",
     "text": [
      "download: s3://sagemaker-us-west-2-839762460060/xgboost-190522-0243-005-bf503f99-2019-05-22-03-03-28-274/test.csv.out to ../data/xgboost/test.csv.out\n"
     ]
    }
   ],
   "source": [
    "!aws s3 cp --recursive $xgb_transformer.output_path $data_dir"
   ]
  },
  {
   "cell_type": "markdown",
   "metadata": {},
   "source": [
    "The last step is now to read in the output from our model, convert the output to something a little more usable, in this case we want the sentiment to be either `1` (positive) or `0` (negative), and then compare to the ground truth labels."
   ]
  },
  {
   "cell_type": "code",
   "execution_count": 56,
   "metadata": {},
   "outputs": [],
   "source": [
    "predictions = pd.read_csv(os.path.join(data_dir, 'test.csv.out'), header=None)\n",
    "predictions = [round(num) for num in predictions.squeeze().values]"
   ]
  },
  {
   "cell_type": "code",
   "execution_count": 57,
   "metadata": {},
   "outputs": [
    {
     "data": {
      "text/plain": [
       "0.49884"
      ]
     },
     "execution_count": 57,
     "metadata": {},
     "output_type": "execute_result"
    }
   ],
   "source": [
    "from sklearn.metrics import accuracy_score\n",
    "accuracy_score(test_y, predictions)"
   ]
  },
  {
   "cell_type": "markdown",
   "metadata": {},
   "source": [
    "## Optional: Clean up\n",
    "\n",
    "The default notebook instance on SageMaker doesn't have a lot of excess disk space available. As you continue to complete and execute notebooks you will eventually fill up this disk space, leading to errors which can be difficult to diagnose. Once you are completely finished using a notebook it is a good idea to remove the files that you created along the way. Of course, you can do this from the terminal or from the notebook hub if you would like. The cell below contains some commands to clean up the created files from within the notebook."
   ]
  },
  {
   "cell_type": "code",
   "execution_count": null,
   "metadata": {},
   "outputs": [],
   "source": [
    "# First we will remove all of the files contained in the data_dir directory\n",
    "!rm $data_dir/*\n",
    "\n",
    "# And then we delete the directory itself\n",
    "!rmdir $data_dir\n",
    "\n",
    "# Similarly we will remove the files in the cache_dir directory and the directory itself\n",
    "!rm $cache_dir/*\n",
    "!rmdir $cache_dir"
   ]
  },
  {
   "cell_type": "code",
   "execution_count": null,
   "metadata": {},
   "outputs": [],
   "source": []
  }
 ],
 "metadata": {
  "jupytext": {
   "formats": "ipynb,py:percent"
  },
  "kernelspec": {
   "display_name": "Python 3",
   "language": "python",
   "name": "python3"
  },
  "language_info": {
   "codemirror_mode": {
    "name": "ipython",
    "version": 3
   },
   "file_extension": ".py",
   "mimetype": "text/x-python",
   "name": "python",
   "nbconvert_exporter": "python",
   "pygments_lexer": "ipython3",
   "version": "3.7.1"
  }
 },
 "nbformat": 4,
 "nbformat_minor": 2
}
